{
 "cells": [
  {
   "cell_type": "markdown",
   "metadata": {},
   "source": [
    "# Explore SVD based word embedding\n",
    "\n",
    "This notebook explores word embeddings that are based on SVD of a possibly transformed word-context matrix. Starting with the raw matrix `counts`\n",
    "\n",
    "- possilby transform `counts` (e.g. log data, do PPMI transform, normalize rows)\n",
    "- compute SVD of new matrix\n",
    "- explore word embeddings e.g. scores plots, word similarity\n",
    "- explore loadings\n",
    "\n",
    "The material in this notebook is covered in chapters 15/16 of SLP3\n",
    "- https://web.stanford.edu/~jurafsky/slp3/15.pdf\n",
    "- https://web.stanford.edu/~jurafsky/slp3/16.pdf\n"
   ]
  },
  {
   "cell_type": "code",
   "execution_count": 10,
   "metadata": {
    "collapsed": false
   },
   "outputs": [
    {
     "name": "stdout",
     "output_type": "stream",
     "text": [
      "The autoreload extension is already loaded. To reload it, use:\n",
      "  %reload_ext autoreload\n"
     ]
    }
   ],
   "source": [
    "import numpy as np\n",
    "import matplotlib.pyplot as plt\n",
    "import heapq\n",
    "\n",
    "from scipy.sparse.linalg import svds, norm\n",
    "from scipy.sparse import diags, csr_matrix, dok_matrix\n",
    "\n",
    "# import local code files\n",
    "import sys, os\n",
    "sys.path.append(os.getcwd() + '/code/')\n",
    "\n",
    "# working with word embeddings\n",
    "from save import load_vocabulary, load_matrix\n",
    "from ppmi import calc_ppmi\n",
    "from word_similarity import similarity, closest\n",
    "from transform_counts import remove_zero_count_words\n",
    "\n",
    "# exploring/visualizing scores/loadings\n",
    "from scores_viz import scores_plot, filter_scores\n",
    "from explore_loadings import top_loading_components, top_loading_words, top_loading_words_df\n",
    "\n",
    "# only import this if you have plot.ly installed\n",
    "# from viz_plotly import interactive_scores_plot\n",
    "\n",
    "%load_ext autoreload\n",
    "%autoreload 2\n",
    "%matplotlib inline"
   ]
  },
  {
   "cell_type": "code",
   "execution_count": 2,
   "metadata": {
    "collapsed": true
   },
   "outputs": [],
   "source": [
    "w2i, i2w = load_vocabulary('data/vocab.txt')\n",
    "counts = load_matrix('data/scotus_counts')"
   ]
  },
  {
   "cell_type": "code",
   "execution_count": 3,
   "metadata": {
    "collapsed": false
   },
   "outputs": [],
   "source": [
    "counts, w2i, i2w = remove_zero_count_words(counts, i2w)"
   ]
  },
  {
   "cell_type": "markdown",
   "metadata": {},
   "source": [
    "# transform counts\n"
   ]
  },
  {
   "cell_type": "code",
   "execution_count": 4,
   "metadata": {
    "collapsed": false
   },
   "outputs": [],
   "source": [
    "# normalized row by row norms\n",
    "counts_normed = diags(1.0/norm(counts, axis=1)) * counts "
   ]
  },
  {
   "cell_type": "code",
   "execution_count": 5,
   "metadata": {
    "collapsed": true
   },
   "outputs": [],
   "source": [
    "counts_log = counts\n",
    "counts_log.data = np.log(1 + counts.data)"
   ]
  },
  {
   "cell_type": "code",
   "execution_count": 6,
   "metadata": {
    "collapsed": false
   },
   "outputs": [],
   "source": [
    "ppmi = calc_ppmi(counts)"
   ]
  },
  {
   "cell_type": "markdown",
   "metadata": {},
   "source": [
    "# SVD of counts matrix\n",
    "\n",
    "If $X \\in \\mathbb{R}^{n \\times d}$ is a data matrix with the n observations on rows then the rank K SVD is given by\n",
    "$$X \\approx U D V^T$$\n",
    "where $U \\in \\mathbb{R}^{n \\times K}$ is the matrix of normalized scores and  $V \\in \\mathbb{R}^{d \\times K}$ is the matrix of loadings.\n",
    "\n",
    "If X is a word-context matrix then U (or UD) gives a word embedding."
   ]
  },
  {
   "cell_type": "code",
   "execution_count": 7,
   "metadata": {
    "collapsed": false
   },
   "outputs": [
    {
     "name": "stdout",
     "output_type": "stream",
     "text": [
      "CPU times: user 13.4 s, sys: 92.2 ms, total: 13.5 s\n",
      "Wall time: 13.3 s\n"
     ]
    }
   ],
   "source": [
    "%%time\n",
    "k = 10\n",
    "\n",
    "normed_scores, sing_vals, loadings =  svds(counts_normed, k)\n",
    "\n",
    "loadings = loadings.T\n",
    "un_normed_scores = normed_scores * sing_vals"
   ]
  },
  {
   "cell_type": "code",
   "execution_count": 8,
   "metadata": {
    "collapsed": true
   },
   "outputs": [],
   "source": [
    "embedding = un_normed_scores"
   ]
  },
  {
   "cell_type": "markdown",
   "metadata": {},
   "source": [
    "# Explore word embedding (scores)"
   ]
  },
  {
   "cell_type": "code",
   "execution_count": null,
   "metadata": {
    "collapsed": false
   },
   "outputs": [],
   "source": [
    "scores_plot(embedding,\n",
    "            start=1,\n",
    "            n_comp=3,\n",
    "            title='',\n",
    "            comp_names=None)"
   ]
  },
  {
   "cell_type": "code",
   "execution_count": null,
   "metadata": {
    "collapsed": true
   },
   "outputs": [],
   "source": [
    "# this won't run if you don't have plot.ly already installed\n",
    "# from py_fun_iain.dim_red.viz_plotly import interactive_scores_plot\n",
    "# interactive_scores_plot(scores,comp1=1, comp2=3, labels=iw)"
   ]
  },
  {
   "cell_type": "markdown",
   "metadata": {},
   "source": [
    "# simlarity"
   ]
  },
  {
   "cell_type": "code",
   "execution_count": 31,
   "metadata": {
    "collapsed": false
   },
   "outputs": [
    {
     "data": {
      "text/plain": [
       "5.7688273396389373"
      ]
     },
     "execution_count": 31,
     "metadata": {},
     "output_type": "execute_result"
    }
   ],
   "source": [
    "word1 = 'lawyer'\n",
    "word2 = 'lawyers'\n",
    "\n",
    "similarity(word1, word2, embedding, w2i, sim='angle')"
   ]
  },
  {
   "cell_type": "code",
   "execution_count": 33,
   "metadata": {
    "collapsed": false
   },
   "outputs": [
    {
     "data": {
      "text/plain": [
       "['woods',\n",
       " 'sprague',\n",
       " '5983',\n",
       " 'hennings',\n",
       " 'canes',\n",
       " 'sowell',\n",
       " 'regularize',\n",
       " 'spiders',\n",
       " 'woodb',\n",
       " 'verplank']"
      ]
     },
     "execution_count": 33,
     "metadata": {},
     "output_type": "execute_result"
    }
   ],
   "source": [
    "word = 'lawyer'\n",
    "closest(word, embedding, w2i, N=10)"
   ]
  },
  {
   "cell_type": "markdown",
   "metadata": {},
   "source": [
    "# explore loadings"
   ]
  },
  {
   "cell_type": "code",
   "execution_count": 34,
   "metadata": {
    "collapsed": false
   },
   "outputs": [
    {
     "data": {
      "text/html": [
       "<div>\n",
       "<style>\n",
       "    .dataframe thead tr:only-child th {\n",
       "        text-align: right;\n",
       "    }\n",
       "\n",
       "    .dataframe thead th {\n",
       "        text-align: left;\n",
       "    }\n",
       "\n",
       "    .dataframe tbody tr th {\n",
       "        vertical-align: top;\n",
       "    }\n",
       "</style>\n",
       "<table border=\"1\" class=\"dataframe\">\n",
       "  <thead>\n",
       "    <tr style=\"text-align: right;\">\n",
       "      <th></th>\n",
       "      <th>1</th>\n",
       "      <th>2</th>\n",
       "      <th>3</th>\n",
       "      <th>4</th>\n",
       "      <th>5</th>\n",
       "      <th>6</th>\n",
       "      <th>7</th>\n",
       "      <th>8</th>\n",
       "      <th>9</th>\n",
       "      <th>10</th>\n",
       "    </tr>\n",
       "  </thead>\n",
       "  <tbody>\n",
       "    <tr>\n",
       "      <th>1</th>\n",
       "      <td>by</td>\n",
       "      <td>states</td>\n",
       "      <td>of</td>\n",
       "      <td>at</td>\n",
       "      <td>the</td>\n",
       "      <td>and</td>\n",
       "      <td>v</td>\n",
       "      <td>to</td>\n",
       "      <td>the</td>\n",
       "      <td>the</td>\n",
       "    </tr>\n",
       "    <tr>\n",
       "      <th>2</th>\n",
       "      <td>at</td>\n",
       "      <td>v</td>\n",
       "      <td>and</td>\n",
       "      <td>the</td>\n",
       "      <td>of</td>\n",
       "      <td>of</td>\n",
       "      <td>states</td>\n",
       "      <td>the</td>\n",
       "      <td>of</td>\n",
       "      <td>of</td>\n",
       "    </tr>\n",
       "    <tr>\n",
       "      <th>3</th>\n",
       "      <td>and</td>\n",
       "      <td>by</td>\n",
       "      <td>states</td>\n",
       "      <td>states</td>\n",
       "      <td>at</td>\n",
       "      <td>for</td>\n",
       "      <td>us</td>\n",
       "      <td>by</td>\n",
       "      <td>to</td>\n",
       "      <td>to</td>\n",
       "    </tr>\n",
       "    <tr>\n",
       "      <th>4</th>\n",
       "      <td>to</td>\n",
       "      <td>in</td>\n",
       "      <td>that</td>\n",
       "      <td>by</td>\n",
       "      <td>to</td>\n",
       "      <td>to</td>\n",
       "      <td>the</td>\n",
       "      <td>of</td>\n",
       "      <td>and</td>\n",
       "      <td>and</td>\n",
       "    </tr>\n",
       "    <tr>\n",
       "      <th>5</th>\n",
       "      <td>for</td>\n",
       "      <td>us</td>\n",
       "      <td>in</td>\n",
       "      <td>and</td>\n",
       "      <td>states</td>\n",
       "      <td>the</td>\n",
       "      <td>at</td>\n",
       "      <td>v</td>\n",
       "      <td>in</td>\n",
       "      <td>in</td>\n",
       "    </tr>\n",
       "    <tr>\n",
       "      <th>6</th>\n",
       "      <td>a</td>\n",
       "      <td>of</td>\n",
       "      <td>to</td>\n",
       "      <td>id</td>\n",
       "      <td>a</td>\n",
       "      <td>by</td>\n",
       "      <td>see</td>\n",
       "      <td>line</td>\n",
       "      <td>a</td>\n",
       "      <td>a</td>\n",
       "    </tr>\n",
       "    <tr>\n",
       "      <th>7</th>\n",
       "      <td>in</td>\n",
       "      <td>at</td>\n",
       "      <td>a</td>\n",
       "      <td>of</td>\n",
       "      <td>in</td>\n",
       "      <td>on</td>\n",
       "      <td>united</td>\n",
       "      <td>and</td>\n",
       "      <td>that</td>\n",
       "      <td>that</td>\n",
       "    </tr>\n",
       "    <tr>\n",
       "      <th>8</th>\n",
       "      <td>v</td>\n",
       "      <td>§</td>\n",
       "      <td>is</td>\n",
       "      <td>a</td>\n",
       "      <td>that</td>\n",
       "      <td>with</td>\n",
       "      <td>to</td>\n",
       "      <td>straight</td>\n",
       "      <td>states</td>\n",
       "      <td>for</td>\n",
       "    </tr>\n",
       "    <tr>\n",
       "      <th>9</th>\n",
       "      <td>id</td>\n",
       "      <td>see</td>\n",
       "      <td>not</td>\n",
       "      <td>arc</td>\n",
       "      <td>id</td>\n",
       "      <td>v</td>\n",
       "      <td>by</td>\n",
       "      <td>states</td>\n",
       "      <td>for</td>\n",
       "      <td>by</td>\n",
       "    </tr>\n",
       "    <tr>\n",
       "      <th>10</th>\n",
       "      <td>line</td>\n",
       "      <td>to</td>\n",
       "      <td>it</td>\n",
       "      <td>centered</td>\n",
       "      <td>is</td>\n",
       "      <td>at</td>\n",
       "      <td>co</td>\n",
       "      <td>us</td>\n",
       "      <td>us</td>\n",
       "      <td>is</td>\n",
       "    </tr>\n",
       "    <tr>\n",
       "      <th>11</th>\n",
       "      <td>states</td>\n",
       "      <td>co</td>\n",
       "      <td>by</td>\n",
       "      <td>in</td>\n",
       "      <td>not</td>\n",
       "      <td>states</td>\n",
       "      <td>c</td>\n",
       "      <td>see</td>\n",
       "      <td>by</td>\n",
       "      <td>as</td>\n",
       "    </tr>\n",
       "    <tr>\n",
       "      <th>12</th>\n",
       "      <td>straight</td>\n",
       "      <td>c</td>\n",
       "      <td>the</td>\n",
       "      <td>see</td>\n",
       "      <td>it</td>\n",
       "      <td>were</td>\n",
       "      <td>id</td>\n",
       "      <td>for</td>\n",
       "      <td>been</td>\n",
       "      <td>not</td>\n",
       "    </tr>\n",
       "    <tr>\n",
       "      <th>13</th>\n",
       "      <td>§</td>\n",
       "      <td>a</td>\n",
       "      <td>be</td>\n",
       "      <td>to</td>\n",
       "      <td>v</td>\n",
       "      <td>a</td>\n",
       "      <td>that</td>\n",
       "      <td>be</td>\n",
       "      <td>upon</td>\n",
       "      <td>at</td>\n",
       "    </tr>\n",
       "    <tr>\n",
       "      <th>14</th>\n",
       "      <td>that</td>\n",
       "      <td>arc</td>\n",
       "      <td>as</td>\n",
       "      <td>united</td>\n",
       "      <td>be</td>\n",
       "      <td>brief</td>\n",
       "      <td>§</td>\n",
       "      <td>united</td>\n",
       "      <td>such</td>\n",
       "      <td>on</td>\n",
       "    </tr>\n",
       "    <tr>\n",
       "      <th>15</th>\n",
       "      <td>see</td>\n",
       "      <td>centered</td>\n",
       "      <td>or</td>\n",
       "      <td>s</td>\n",
       "      <td>by</td>\n",
       "      <td>as</td>\n",
       "      <td>s</td>\n",
       "      <td>that</td>\n",
       "      <td>so</td>\n",
       "      <td>it</td>\n",
       "    </tr>\n",
       "    <tr>\n",
       "      <th>16</th>\n",
       "      <td>et</td>\n",
       "      <td>that</td>\n",
       "      <td>et</td>\n",
       "      <td>for</td>\n",
       "      <td>as</td>\n",
       "      <td>was</td>\n",
       "      <td>f2d</td>\n",
       "      <td>it</td>\n",
       "      <td>if</td>\n",
       "      <td>be</td>\n",
       "    </tr>\n",
       "    <tr>\n",
       "      <th>17</th>\n",
       "      <td>al</td>\n",
       "      <td>line</td>\n",
       "      <td>line</td>\n",
       "      <td>line</td>\n",
       "      <td>united</td>\n",
       "      <td>us</td>\n",
       "      <td>straight</td>\n",
       "      <td>or</td>\n",
       "      <td>united</td>\n",
       "      <td>was</td>\n",
       "    </tr>\n",
       "    <tr>\n",
       "      <th>18</th>\n",
       "      <td>arc</td>\n",
       "      <td>for</td>\n",
       "      <td>was</td>\n",
       "      <td>u</td>\n",
       "      <td>or</td>\n",
       "      <td>him</td>\n",
       "      <td>line</td>\n",
       "      <td>is</td>\n",
       "      <td>there</td>\n",
       "      <td>with</td>\n",
       "    </tr>\n",
       "    <tr>\n",
       "      <th>19</th>\n",
       "      <td>centered</td>\n",
       "      <td>united</td>\n",
       "      <td>this</td>\n",
       "      <td>is</td>\n",
       "      <td>this</td>\n",
       "      <td>mr</td>\n",
       "      <td>supra</td>\n",
       "      <td>et</td>\n",
       "      <td>made</td>\n",
       "      <td>or</td>\n",
       "    </tr>\n",
       "    <tr>\n",
       "      <th>20</th>\n",
       "      <td>was</td>\n",
       "      <td>straight</td>\n",
       "      <td>straight</td>\n",
       "      <td>straight</td>\n",
       "      <td>line</td>\n",
       "      <td>§</td>\n",
       "      <td>and</td>\n",
       "      <td>c</td>\n",
       "      <td>v</td>\n",
       "      <td>this</td>\n",
       "    </tr>\n",
       "    <tr>\n",
       "      <th>21</th>\n",
       "      <td>not</td>\n",
       "      <td>and</td>\n",
       "      <td>al</td>\n",
       "      <td>as</td>\n",
       "      <td>which</td>\n",
       "      <td>j</td>\n",
       "      <td>it</td>\n",
       "      <td>in</td>\n",
       "      <td>they</td>\n",
       "      <td>court</td>\n",
       "    </tr>\n",
       "    <tr>\n",
       "      <th>22</th>\n",
       "      <td>co</td>\n",
       "      <td>is</td>\n",
       "      <td>which</td>\n",
       "      <td>it</td>\n",
       "      <td>an</td>\n",
       "      <td>m</td>\n",
       "      <td>e</td>\n",
       "      <td>not</td>\n",
       "      <td>should</td>\n",
       "      <td>which</td>\n",
       "    </tr>\n",
       "    <tr>\n",
       "      <th>23</th>\n",
       "      <td>on</td>\n",
       "      <td>1</td>\n",
       "      <td>court</td>\n",
       "      <td>supra</td>\n",
       "      <td>arc</td>\n",
       "      <td>arc</td>\n",
       "      <td>inc</td>\n",
       "      <td>co</td>\n",
       "      <td>any</td>\n",
       "      <td>v</td>\n",
       "    </tr>\n",
       "    <tr>\n",
       "      <th>24</th>\n",
       "      <td>brief</td>\n",
       "      <td>et</td>\n",
       "      <td>an</td>\n",
       "      <td>that</td>\n",
       "      <td>straight</td>\n",
       "      <td>briefs</td>\n",
       "      <td>arc</td>\n",
       "      <td>on</td>\n",
       "      <td>without</td>\n",
       "      <td>an</td>\n",
       "    </tr>\n",
       "    <tr>\n",
       "      <th>25</th>\n",
       "      <td>j</td>\n",
       "      <td>al</td>\n",
       "      <td>at</td>\n",
       "      <td>be</td>\n",
       "      <td>brief</td>\n",
       "      <td>john</td>\n",
       "      <td>is</td>\n",
       "      <td>brief</td>\n",
       "      <td>when</td>\n",
       "      <td>from</td>\n",
       "    </tr>\n",
       "    <tr>\n",
       "      <th>26</th>\n",
       "      <td>m</td>\n",
       "      <td>ed</td>\n",
       "      <td>§</td>\n",
       "      <td>ante</td>\n",
       "      <td>centered</td>\n",
       "      <td>see</td>\n",
       "      <td>j</td>\n",
       "      <td>s</td>\n",
       "      <td>them</td>\n",
       "      <td>us</td>\n",
       "    </tr>\n",
       "    <tr>\n",
       "      <th>27</th>\n",
       "      <td>were</td>\n",
       "      <td>2</td>\n",
       "      <td>but</td>\n",
       "      <td>which</td>\n",
       "      <td>on</td>\n",
       "      <td>centered</td>\n",
       "      <td>g</td>\n",
       "      <td>j</td>\n",
       "      <td>under</td>\n",
       "      <td>states</td>\n",
       "    </tr>\n",
       "    <tr>\n",
       "      <th>28</th>\n",
       "      <td>filed</td>\n",
       "      <td>id</td>\n",
       "      <td>from</td>\n",
       "      <td>also</td>\n",
       "      <td>and</td>\n",
       "      <td>in</td>\n",
       "      <td>f</td>\n",
       "      <td>al</td>\n",
       "      <td>also</td>\n",
       "      <td>have</td>\n",
       "    </tr>\n",
       "    <tr>\n",
       "      <th>29</th>\n",
       "      <td>mr</td>\n",
       "      <td>f2d</td>\n",
       "      <td>c</td>\n",
       "      <td>or</td>\n",
       "      <td>but</td>\n",
       "      <td>jr</td>\n",
       "      <td>not</td>\n",
       "      <td>l</td>\n",
       "      <td>can</td>\n",
       "      <td>were</td>\n",
       "    </tr>\n",
       "    <tr>\n",
       "      <th>30</th>\n",
       "      <td>l</td>\n",
       "      <td>not</td>\n",
       "      <td>have</td>\n",
       "      <td>not</td>\n",
       "      <td>from</td>\n",
       "      <td>united</td>\n",
       "      <td>ed</td>\n",
       "      <td>e</td>\n",
       "      <td>all</td>\n",
       "      <td>but</td>\n",
       "    </tr>\n",
       "  </tbody>\n",
       "</table>\n",
       "</div>"
      ],
      "text/plain": [
       "          1         2         3         4         5         6         7   \\\n",
       "1         by    states        of        at       the       and         v   \n",
       "2         at         v       and       the        of        of    states   \n",
       "3        and        by    states    states        at       for        us   \n",
       "4         to        in      that        by        to        to       the   \n",
       "5        for        us        in       and    states       the        at   \n",
       "6          a        of        to        id         a        by       see   \n",
       "7         in        at         a        of        in        on    united   \n",
       "8          v         §        is         a      that      with        to   \n",
       "9         id       see       not       arc        id         v        by   \n",
       "10      line        to        it  centered        is        at        co   \n",
       "11    states        co        by        in       not    states         c   \n",
       "12  straight         c       the       see        it      were        id   \n",
       "13         §         a        be        to         v         a      that   \n",
       "14      that       arc        as    united        be     brief         §   \n",
       "15       see  centered        or         s        by        as         s   \n",
       "16        et      that        et       for        as       was       f2d   \n",
       "17        al      line      line      line    united        us  straight   \n",
       "18       arc       for       was         u        or       him      line   \n",
       "19  centered    united      this        is      this        mr     supra   \n",
       "20       was  straight  straight  straight      line         §       and   \n",
       "21       not       and        al        as     which         j        it   \n",
       "22        co        is     which        it        an         m         e   \n",
       "23        on         1     court     supra       arc       arc       inc   \n",
       "24     brief        et        an      that  straight    briefs       arc   \n",
       "25         j        al        at        be     brief      john        is   \n",
       "26         m        ed         §      ante  centered       see         j   \n",
       "27      were         2       but     which        on  centered         g   \n",
       "28     filed        id      from      also       and        in         f   \n",
       "29        mr       f2d         c        or       but        jr       not   \n",
       "30         l       not      have       not      from    united        ed   \n",
       "\n",
       "          8        9       10  \n",
       "1         to      the     the  \n",
       "2        the       of      of  \n",
       "3         by       to      to  \n",
       "4         of      and     and  \n",
       "5          v       in      in  \n",
       "6       line        a       a  \n",
       "7        and     that    that  \n",
       "8   straight   states     for  \n",
       "9     states      for      by  \n",
       "10        us       us      is  \n",
       "11       see       by      as  \n",
       "12       for     been     not  \n",
       "13        be     upon      at  \n",
       "14    united     such      on  \n",
       "15      that       so      it  \n",
       "16        it       if      be  \n",
       "17        or   united     was  \n",
       "18        is    there    with  \n",
       "19        et     made      or  \n",
       "20         c        v    this  \n",
       "21        in     they   court  \n",
       "22       not   should   which  \n",
       "23        co      any       v  \n",
       "24        on  without      an  \n",
       "25     brief     when    from  \n",
       "26         s     them      us  \n",
       "27         j    under  states  \n",
       "28        al     also    have  \n",
       "29         l      can    were  \n",
       "30         e      all     but  "
      ]
     },
     "execution_count": 34,
     "metadata": {},
     "output_type": "execute_result"
    }
   ],
   "source": [
    "top_loading_df = top_loading_words_df(loadings, i2w, n=30)\n",
    "\n",
    "top_loading_df"
   ]
  },
  {
   "cell_type": "code",
   "execution_count": 12,
   "metadata": {
    "collapsed": false,
    "scrolled": false
   },
   "outputs": [
    {
     "data": {
      "text/plain": [
       "<matplotlib.collections.PathCollection at 0x13927c990>"
      ]
     },
     "execution_count": 12,
     "metadata": {},
     "output_type": "execute_result"
    },
    {
     "data": {
      "image/png": "[encoded data removed]",
      "text/plain": [
       "<matplotlib.figure.Figure at 0x146dca990>"
      ]
     },
     "metadata": {},
     "output_type": "display_data"
    }
   ],
   "source": [
    "comp_numer = 6  # which loading\n",
    "n = 50 # how many components to show\n",
    "\n",
    "plt.figure(figsize=[20, 10])\n",
    "\n",
    "plt.subplot(1,2,1)\n",
    "top_loading_components(loadings[:, comp_numer], i2w, n, comp_numer)\n",
    "\n",
    "\n",
    "plt.subplot(1,2,2)\n",
    "plt.scatter(range(loadings.shape[0]), loadings[:, comp_numer], color='grey')"
   ]
  },
  {
   "cell_type": "code",
   "execution_count": null,
   "metadata": {
    "collapsed": true
   },
   "outputs": [],
   "source": []
  }
 ],
 "metadata": {
  "anaconda-cloud": {},
  "kernelspec": {
   "display_name": "Python [conda root]",
   "language": "python",
   "name": "conda-root-py"
  },
  "language_info": {
   "codemirror_mode": {
    "name": "ipython",
    "version": 2
   },
   "file_extension": ".py",
   "mimetype": "text/x-python",
   "name": "python",
   "nbconvert_exporter": "python",
   "pygments_lexer": "ipython2",
   "version": "2.7.12"
  }
 },
 "nbformat": 4,
 "nbformat_minor": 2
}
